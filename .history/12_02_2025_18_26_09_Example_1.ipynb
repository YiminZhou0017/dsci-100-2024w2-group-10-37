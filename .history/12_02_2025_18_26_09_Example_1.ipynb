{
 "cells": [
  {
   "cell_type": "code",
   "execution_count": null,
   "id": "5b932911-5b7b-46c3-9ce8-ab17e9a72bb7",
   "metadata": {},
   "outputs": [],
   "source": [
    "Amoonguss <- \"usew spor\""
   ]
  },
  {
   "cell_type": "code",
   "execution_count": null,
   "id": "37bb63b5-5c01-4d17-9f18-d5fbb0ff69c7",
   "metadata": {},
   "outputs": [],
   "source": [
    "Amoonguss"
   ]
  },
  {
   "cell_type": "code",
   "execution_count": null,
   "id": "0fc6d743-1307-4836-b211-e69ad3a369ab",
   "metadata": {},
   "outputs": [],
   "source": []
  }
 ],
 "metadata": {
  "kernelspec": {
   "display_name": "R",
   "language": "R",
   "name": "ir"
  },
  "language_info": {
   "codemirror_mode": "r",
   "file_extension": ".r",
   "mimetype": "text/x-r-source",
   "name": "R",
   "pygments_lexer": "r",
   "version": "4.3.3"
  }
 },
 "nbformat": 4,
 "nbformat_minor": 5
}
